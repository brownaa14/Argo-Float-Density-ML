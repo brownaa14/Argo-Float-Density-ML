{
 "cells": [
  {
   "cell_type": "markdown",
   "metadata": {},
   "source": [
    "a) Introduction\n",
    "\n",
    "The dataset I will be using for this project is the data collected from the Argo program headed by UCSD. The Argo program has been deploying and maintaining over 4,000 \"floats\" containing a wide array of sensors to measure 92 physical and chemical parameters in ocean waters since the early 2000s. These floats are deployed in the ocean and drift in its currents while taking measurements from the surface all the way down to 6000m of depth.\n",
    "\n",
    "The primary variables of interest in this analysis are the ocean's temperature, salinity, pressure (used to measure depth), and the sensors' latitude and longitude coordinates. The response variable is going to be density, the driver of ocean circulation, which is a function of both salinity and temperature.\n",
    "    \n",
    "Insights about the flow of ocean currents from this analysis can be used to validate current oceanographic modeling techniques which are used heavy in weather, marine population, and marine transportation modeling.\n",
    "    \n",
    "The total size of the dataset is over 50gb, but I will only be working with the past 1 year of data in the Southern Ocean and retrieving specific parameters, resulting in a dataset size of ~240mb. All values have already been cleansed to ensure a high quality data set by the Argo program."
   ]
  },
  {
   "cell_type": "markdown",
   "metadata": {},
   "source": [
    "b) Problem Description\n",
    "\n",
    "Problem:\n",
    "Observing deep ocean current velocity derived from temperature and salinity transport.\n",
    "\n",
    "The variables of interest are salinity (practical salinity units), temperature (degrees Celsius), pressure (decibars), latitude (decimal degrees), longitude (decimal degrees), and time. A density value will be derived from salinity and temperature and be used in combination with  geographic coordinates to determine the velocity of current flow."
   ]
  },
  {
   "cell_type": "markdown",
   "metadata": {},
   "source": [
    "c) Data Engineering Steps\n",
    "\n",
    "Data comes from observation stations located in the Southern Ocean (-60 - -80 degrees latitude) from the pasy year (~56,000 observation cycles). Data will then be subsetted to isolate variables of interest (TIME, LATITUDE, LONGITUDE, PRES_ADJUSTED, TEMP_ADJUSTED, PSAL_ADJUSTED). Data will be subsetted to isolate data between 200m and 2000m of depth.\n"
   ]
  },
  {
   "cell_type": "code",
   "execution_count": 2,
   "metadata": {
    "scrolled": true
   },
   "outputs": [],
   "source": [
    "#Import packages\n",
    "import numpy as np\n",
    "import matplotlib.pyplot as plt\n",
    "import pandas as pd\n",
    "import glob\n",
    "import datetime\n",
    "from seawater import dens\n",
    "import time"
   ]
  },
  {
   "cell_type": "markdown",
   "metadata": {},
   "source": [
    "Load all files into master dataframe"
   ]
  },
  {
   "cell_type": "code",
   "execution_count": 4,
   "metadata": {
    "scrolled": true
   },
   "outputs": [],
   "source": [
    "path = r\"G:\\My Drive\\ArgoFloat\\Data\\1YearCSV\"\n",
    "\n",
    "all_files = glob.glob(path + \"/*.csv\")\n",
    "\n",
    "li = []\n",
    "\n",
    "for filename in all_files:\n",
    "    df = pd.read_csv(filename, index_col=None, header=0)\n",
    "    li.append(df)\n",
    "\n",
    "frame = pd.concat(li, axis=0, ignore_index=True)\n"
   ]
  },
  {
   "cell_type": "markdown",
   "metadata": {},
   "source": [
    "Drop Unnecessary Variables"
   ]
  },
  {
   "cell_type": "code",
   "execution_count": 5,
   "metadata": {},
   "outputs": [
    {
     "data": {
      "text/html": [
       "<div>\n",
       "<style scoped>\n",
       "    .dataframe tbody tr th:only-of-type {\n",
       "        vertical-align: middle;\n",
       "    }\n",
       "\n",
       "    .dataframe tbody tr th {\n",
       "        vertical-align: top;\n",
       "    }\n",
       "\n",
       "    .dataframe thead th {\n",
       "        text-align: right;\n",
       "    }\n",
       "</style>\n",
       "<table border=\"1\" class=\"dataframe\">\n",
       "  <thead>\n",
       "    <tr style=\"text-align: right;\">\n",
       "      <th></th>\n",
       "      <th>LATITUDE (degree_north)</th>\n",
       "      <th>LONGITUDE (degree_east)</th>\n",
       "      <th>PRES_ADJUSTED (decibar)</th>\n",
       "      <th>TEMP_ADJUSTED (degree_Celsius)</th>\n",
       "      <th>PSAL_ADJUSTED (psu)</th>\n",
       "    </tr>\n",
       "  </thead>\n",
       "  <tbody>\n",
       "    <tr>\n",
       "      <th>0</th>\n",
       "      <td>-60.0952</td>\n",
       "      <td>61.2471</td>\n",
       "      <td>4.89</td>\n",
       "      <td>0.3716</td>\n",
       "      <td>NaN</td>\n",
       "    </tr>\n",
       "    <tr>\n",
       "      <th>1</th>\n",
       "      <td>-60.0952</td>\n",
       "      <td>61.2471</td>\n",
       "      <td>6.63</td>\n",
       "      <td>0.3702</td>\n",
       "      <td>NaN</td>\n",
       "    </tr>\n",
       "    <tr>\n",
       "      <th>2</th>\n",
       "      <td>-60.0952</td>\n",
       "      <td>61.2471</td>\n",
       "      <td>8.58</td>\n",
       "      <td>0.3704</td>\n",
       "      <td>NaN</td>\n",
       "    </tr>\n",
       "    <tr>\n",
       "      <th>3</th>\n",
       "      <td>-60.0952</td>\n",
       "      <td>61.2471</td>\n",
       "      <td>10.58</td>\n",
       "      <td>0.3694</td>\n",
       "      <td>NaN</td>\n",
       "    </tr>\n",
       "    <tr>\n",
       "      <th>4</th>\n",
       "      <td>-60.0952</td>\n",
       "      <td>61.2471</td>\n",
       "      <td>12.62</td>\n",
       "      <td>0.3708</td>\n",
       "      <td>NaN</td>\n",
       "    </tr>\n",
       "  </tbody>\n",
       "</table>\n",
       "</div>"
      ],
      "text/plain": [
       "   LATITUDE (degree_north)  LONGITUDE (degree_east)  PRES_ADJUSTED (decibar)  \\\n",
       "0                 -60.0952                  61.2471                     4.89   \n",
       "1                 -60.0952                  61.2471                     6.63   \n",
       "2                 -60.0952                  61.2471                     8.58   \n",
       "3                 -60.0952                  61.2471                    10.58   \n",
       "4                 -60.0952                  61.2471                    12.62   \n",
       "\n",
       "   TEMP_ADJUSTED (degree_Celsius)  PSAL_ADJUSTED (psu)  \n",
       "0                          0.3716                  NaN  \n",
       "1                          0.3702                  NaN  \n",
       "2                          0.3704                  NaN  \n",
       "3                          0.3694                  NaN  \n",
       "4                          0.3708                  NaN  "
      ]
     },
     "execution_count": 5,
     "metadata": {},
     "output_type": "execute_result"
    }
   ],
   "source": [
    "to_drop = ['PLATFORM_CODE', 'DATE (YYYY-MM-DDTHH:MI:SSZ)','DATE_QC','POSITION_QC','PRES (decibar)','PRES_QC','TEMP_ADJUSTED_QC','PRES_ADJUSTED_QC','TEMP_ADJUSTED_QC','PSAL_ADJUSTED_QC']\n",
    "tidydf = frame.drop(to_drop, axis = 1)\n",
    "tidydf.head()"
   ]
  },
  {
   "cell_type": "markdown",
   "metadata": {},
   "source": [
    "Drop na values"
   ]
  },
  {
   "cell_type": "code",
   "execution_count": 24,
   "metadata": {},
   "outputs": [],
   "source": [
    "tidydf = tidydf.dropna(axis = 0)"
   ]
  },
  {
   "cell_type": "markdown",
   "metadata": {},
   "source": [
    "Generate Response Variable"
   ]
  },
  {
   "cell_type": "code",
   "execution_count": 7,
   "metadata": {
    "scrolled": true
   },
   "outputs": [],
   "source": [
    "densArr = dens(tidydf[\"PSAL_ADJUSTED (psu)\"], tidydf[\"TEMP_ADJUSTED (degree_Celsius)\"], tidydf[\"PRES_ADJUSTED (decibar)\"])\n",
    "tidydf['Density'] = densArr.tolist()\n"
   ]
  },
  {
   "cell_type": "markdown",
   "metadata": {},
   "source": [
    "Remove Data outside of 200-2000 decibars of pressure"
   ]
  },
  {
   "cell_type": "code",
   "execution_count": 9,
   "metadata": {},
   "outputs": [],
   "source": [
    "tidydf = tidydf.loc[(tidydf[\"PRES_ADJUSTED (decibar)\"] > 200) & (tidydf[\"PRES_ADJUSTED (decibar)\"] < 2000)]"
   ]
  },
  {
   "cell_type": "code",
   "execution_count": null,
   "metadata": {},
   "outputs": [],
   "source": [
    "tidydf.head()"
   ]
  },
  {
   "cell_type": "code",
   "execution_count": 12,
   "metadata": {},
   "outputs": [
    {
     "name": "stdout",
     "output_type": "stream",
     "text": [
      "(2034525, 4)\n",
      "(2034525,)\n"
     ]
    }
   ],
   "source": [
    "#Split Data\n",
    "\n",
    "from sklearn import preprocessing\n",
    "from sklearn import utils\n",
    "from sklearn.model_selection import train_test_split\n",
    "\n",
    "s=tidydf.astype('int')\n",
    "\n",
    "X=s.iloc[:,0:4]\n",
    "y=s.iloc[:,5]\n",
    "\n",
    "\n",
    "X_train, X_test, y_train, y_test = train_test_split(X, y, test_size = 0.3, random_state=10)\n",
    "\n",
    "\n",
    "\n",
    "print(X.shape)\n",
    "print(y.shape)\n",
    "\n"
   ]
  },
  {
   "cell_type": "code",
   "execution_count": 34,
   "metadata": {},
   "outputs": [
    {
     "data": {
      "image/png": "[encoded data removed]",
      "text/plain": [
       "<Figure size 432x288 with 1 Axes>"
      ]
     },
     "metadata": {
      "needs_background": "light"
     },
     "output_type": "display_data"
    }
   ],
   "source": [
    "#K-Means Clustering\n",
    "import matplotlib.pyplot as plt\n",
    "from sklearn import datasets\n",
    "from sklearn.cluster import KMeans\n",
    "\n",
    "plt.scatter(X[\"PRES_ADJUSTED (decibar)\"], X[\"TEMP_ADJUSTED (degree_Celsius)\"],\n",
    "             color='white', marker='o', edgecolor='red', s=50)\n",
    "plt.grid()\n",
    "plt.tight_layout()\n",
    "plt.show()"
   ]
  },
  {
   "cell_type": "code",
   "execution_count": 36,
   "metadata": {},
   "outputs": [
    {
     "data": {
      "image/png": "[encoded data removed]",
      "text/plain": [
       "<Figure size 432x288 with 1 Axes>"
      ]
     },
     "metadata": {
      "needs_background": "light"
     },
     "output_type": "display_data"
    }
   ],
   "source": [
    "# Create an instance of K-Means\n",
    "#\n",
    "kmc = KMeans(n_clusters=8, init='random', n_init=10, max_iter=300,tol=1e-04, random_state=0)\n",
    "#\n",
    "# Fit and make predictions\n",
    "#\n",
    "y_kmc = kmc.fit_predict(X)\n",
    "#\n",
    "# Create the K-means cluster plot\n",
    "#\n",
    "plt.scatter(kmc.cluster_centers_[:, 1], kmc.cluster_centers_[:, 3],\n",
    "            s=250, marker='*', c='red', edgecolor='black', label='Centroids')\n",
    "plt.legend(scatterpoints=1)\n",
    "plt.grid()\n",
    "plt.tight_layout()\n",
    "plt.show()"
   ]
  },
  {
   "cell_type": "code",
   "execution_count": 16,
   "metadata": {},
   "outputs": [
    {
     "name": "stdout",
     "output_type": "stream",
     "text": [
      "\n",
      "--- 3.7788748741149902 seconds ---\n",
      "ACCURACY OF THE MODEL:  0.9680712788259959\n"
     ]
    }
   ],
   "source": [
    "#Decision Trees\n",
    "\n",
    "# Creating Decision Tree Classifier\n",
    "from sklearn.tree import DecisionTreeClassifier\n",
    "start_time = time.time()\n",
    "\n",
    "clf = DecisionTreeClassifier()\n",
    "\n",
    "param_grid = {\n",
    "                 \n",
    "                 'max_depth': [2, 3, 5, 7, 9]\n",
    "             }\n",
    "\n",
    "from sklearn.model_selection import GridSearchCV\n",
    "\n",
    "grid_clf = GridSearchCV(clf, param_grid, cv=10)\n",
    "grid_clf.fit(X_train, y_train)\n",
    "\n",
    "\n",
    "# performing predictions on the test dataset\n",
    "y_pred = grid_clf.predict(X_test)\n",
    "\n",
    "# metrics are used to find accuracy or error\n",
    "from sklearn import metrics\n",
    "print()\n",
    "print(\"--- %s seconds ---\" % (time.time() - start_time))\n",
    "# using metrics module for accuracy calculation\n",
    "print(\"ACCURACY OF THE MODEL: \", metrics.accuracy_score(y_test, y_pred))\n"
   ]
  },
  {
   "cell_type": "code",
   "execution_count": 17,
   "metadata": {},
   "outputs": [
    {
     "name": "stdout",
     "output_type": "stream",
     "text": [
      "accuracy:  0.9803144654088051\n",
      "--- 2.4078166484832764 seconds ---\n",
      "--- 145.89754724502563 seconds ---\n",
      "[0.9219291878764432, 0.9194574312194066, 0.9227216533647571, 0.9211744362832501, 0.9237719822683401, 0.9223945947036427, 0.9234637996408652, 0.922941766097229, 0.9232185164242142, 0.9223820168784232, 0.9230990274801965, 0.9223757368660579, 0.9231304742188602, 0.9223317142800068, 0.9225329840086344, 0.9219795049130337, 0.9227090866153972, 0.9218034013173547, 0.9216902048460446, 0.9217468042683988, 0.9212813964522834, 0.9210235209722389, 0.9210801376017322, 0.9202876671688383, 0.9200109453226348, 0.9200172370042093, 0.9199732086824455, 0.9200738417667104, 0.9199166066889093, 0.9202247843718039]\n"
     ]
    },
    {
     "data": {
      "image/png": "[encoded data removed]",
      "text/plain": [
       "<Figure size 432x288 with 1 Axes>"
      ]
     },
     "metadata": {
      "needs_background": "light"
     },
     "output_type": "display_data"
    }
   ],
   "source": [
    "#knn\n",
    "\n",
    "from sklearn import neighbors\n",
    "\n",
    "# import k-folder\n",
    "from sklearn.model_selection import cross_val_score\n",
    "start_time = time.time()\n",
    "# build KNN model and choose n_neighbors = 5\n",
    "knn = neighbors.KNeighborsClassifier(n_neighbors = 5)\n",
    "# train the model\n",
    "knn.fit(X_train, y_train)\n",
    "# get the predict value from X_test\n",
    "y_pred = knn.predict(X_test)\n",
    "# print the score\n",
    "print('accuracy: ', knn.score(X_test, y_test))\n",
    "print(\"--- %s seconds ---\" % (time.time() - start_time))\n",
    "\n",
    "# choose k between 1 to 31\n",
    "k_range = range(1, 31)\n",
    "k_scores = []\n",
    "# use iteration to caclulator different k in models, then return the average accuracy based on the cross validation\n",
    "for k in k_range:\n",
    "    knn = neighbors.KNeighborsClassifier(n_neighbors=k)\n",
    "    scores = cross_val_score(knn, X, y, cv=5, scoring='accuracy')\n",
    "    k_scores.append(scores.mean())\n",
    "    \n",
    "print(\"--- %s seconds ---\" % (time.time() - start_time))\n",
    "# plot to see clearly\n",
    "plt.plot(k_range, k_scores)\n",
    "print(k_scores)\n",
    "plt.xlabel('Value of K for KNN')\n",
    "plt.ylabel('Cross-Validated Accuracy')\n",
    "plt.show()\n"
   ]
  },
  {
   "cell_type": "code",
   "execution_count": 18,
   "metadata": {},
   "outputs": [
    {
     "name": "stdout",
     "output_type": "stream",
     "text": [
      "\n",
      "ACCURACY OF THE MODEL:  0.9829559748427673\n",
      "\n",
      "ACCURACY OF THE MODEL:  0.9741719077568134\n",
      "--- 459.0032615661621 seconds ---\n"
     ]
    }
   ],
   "source": [
    "#Random Forests\n",
    "start_time = time.time()\n",
    "from sklearn.ensemble import RandomForestClassifier\n",
    "import pandas as pd\n",
    "\n",
    "# creating a RF classifier\n",
    "clf = RandomForestClassifier(n_estimators = 100)\n",
    "\n",
    "# Training the model on the training dataset\n",
    "# fit function is used to train the model using the training sets as parameters\n",
    "clf.fit(X_train, y_train)\n",
    "\n",
    "# performing predictions on the test dataset\n",
    "y_pred = clf.predict(X_test)\n",
    "\n",
    "# metrics are used to find accuracy or error\n",
    "from sklearn import metrics\n",
    "print()\n",
    "\n",
    "# using metrics module for accuracy calculation\n",
    "print(\"ACCURACY OF THE MODEL: \", metrics.accuracy_score(y_test, y_pred))\n",
    "\n",
    "\n",
    "#Cross Validation RF\n",
    "param_grid = {\n",
    "                 'n_estimators': [5, 10, 15, 20,30,50,70,100],\n",
    "                 'max_depth': [2, 3, 5, 7, 9]\n",
    "             }\n",
    "\n",
    "from sklearn.model_selection import GridSearchCV\n",
    "\n",
    "grid_clf = GridSearchCV(clf, param_grid, cv=10)\n",
    "grid_clf.fit(X_train, y_train)\n",
    "\n",
    "# performing predictions on the test dataset\n",
    "y_pred = grid_clf.predict(X_test)\n",
    "\n",
    "# metrics are used to find accuracy or error\n",
    "from sklearn import metrics\n",
    "print()\n",
    "\n",
    "# using metrics module for accuracy calculation\n",
    "print(\"ACCURACY OF THE MODEL: \", metrics.accuracy_score(y_test, y_pred))\n",
    "\n",
    "print(\"--- %s seconds ---\" % (time.time() - start_time))\n"
   ]
  },
  {
   "cell_type": "code",
   "execution_count": 19,
   "metadata": {},
   "outputs": [
    {
     "name": "stdout",
     "output_type": "stream",
     "text": [
      "0.889182389937107\n",
      "--- 129.74147510528564 seconds ---\n"
     ]
    }
   ],
   "source": [
    "#Logistic Regression\n",
    "from sklearn.linear_model import LogisticRegression\n",
    "start_time = time.time()\n",
    "\n",
    "\n",
    "clf = LogisticRegression(random_state=0, solver='sag', max_iter = 10000).fit(X_train, y_train)\n",
    "clf.predict(X_test)\n",
    "print(clf.score(X_test, y_test))#mean accuracy score\n",
    "\n",
    "print(\"--- %s seconds ---\" % (time.time() - start_time))"
   ]
  },
  {
   "cell_type": "code",
   "execution_count": 1,
   "metadata": {},
   "outputs": [],
   "source": [
    "#Neural network - Sequential Model\n",
    "\n",
    "import tensorflow as tf\n",
    "from tensorflow import keras\n"
   ]
  },
  {
   "cell_type": "code",
   "execution_count": 22,
   "metadata": {},
   "outputs": [
    {
     "name": "stdout",
     "output_type": "stream",
     "text": [
      "356042/356042 [==============================] - 1164s 3ms/step - loss: 0.3824 - accuracy: 0.8445\n",
      "EVALUATION\n",
      "19074/19074 [==============================] - 32s 2ms/step - loss: 0.2904 - accuracy: 0.8766\n"
     ]
    },
    {
     "data": {
      "text/plain": [
       "[0.2903934419155121, 0.8765904307365417]"
      ]
     },
     "execution_count": 22,
     "metadata": {},
     "output_type": "execute_result"
    }
   ],
   "source": [
    "model = keras.Sequential([keras.layers.Dense(32, input_shape=(4,), activation='relu'),\n",
    "keras.layers.Dense((max(y_test) + 1), activation='relu'),\n",
    "keras.layers.Dense((max(y_test) + 1), activation='sigmoid')])\n",
    "\n",
    "model.compile(optimizer='adam', \n",
    "          loss=keras.losses.SparseCategoricalCrossentropy(from_logits=False),\n",
    "          metrics=['accuracy'])\n",
    "\n",
    "model.fit(X_train, y_train, batch_size=4, epochs=1)\n",
    "\n",
    "print(\"EVALUATION\")\n",
    "model.evaluate(X_test, y_test)"
   ]
  },
  {
   "cell_type": "code",
   "execution_count": 23,
   "metadata": {},
   "outputs": [
    {
     "name": "stdout",
     "output_type": "stream",
     "text": [
      "Coefficients: \n",
      " [-6.11427090e-03  8.55812096e-05  4.68014789e-03 -7.34655525e-02]\n",
      "Mean squared error: 0.09\n",
      "Coefficient of determination: 0.98\n",
      "--- 0.19745540618896484 seconds ---\n"
     ]
    }
   ],
   "source": [
    "#Linear Regression\n",
    "\n",
    "import matplotlib.pyplot as plt\n",
    "import numpy as np\n",
    "import pandas as pd\n",
    "from sklearn import datasets, linear_model\n",
    "from sklearn.metrics import mean_squared_error, r2_score\n",
    "from sklearn.model_selection import train_test_split\n",
    "\n",
    "start_time = time.time()\n",
    "\n",
    "# Create linear regression object\n",
    "regr = linear_model.LinearRegression()\n",
    "\n",
    "# Train the model using the training sets\n",
    "regr.fit(X_train, y_train)\n",
    "\n",
    "# Make predictions using the testing set\n",
    "y_pred = regr.predict(X_test)\n",
    "\n",
    "# The coefficients\n",
    "print(\"Coefficients: \\n\", regr.coef_)\n",
    "# The mean squared error\n",
    "print(\"Mean squared error: %.2f\" % mean_squared_error(y_test, y_pred))\n",
    "# The coefficient of determination: 1 is perfect prediction\n",
    "print(\"Coefficient of determination: %.2f\" % r2_score(y_test, y_pred))\n",
    "\n",
    "print(\"--- %s seconds ---\" % (time.time() - start_time))"
   ]
  },
  {
   "cell_type": "markdown",
   "metadata": {},
   "source": [
    "| Model | Accuracy | Computation Time (seconds)|\n",
    "| --- | --- | --- |\n",
    "| Decision Tree | 0.968| 3.778 |\n",
    "| KNN | 0.921 | 145.897 |\n",
    "| Random Forests | 0.974 | 459.003 |\n",
    "| Losgistic Regression | 0.889 | 129.741 |\n",
    "| Neural Sequential Model | 0.8766 | 1164 |\n",
    "| Linear Regression | Mean squared error: 0.09 | 0.197 |\n"
   ]
  },
  {
   "cell_type": "markdown",
   "metadata": {},
   "source": [
    "Random Forests performed the best out of all models, with Decision Tree closely behind. I am surprised that the Sequential model performed the worst as its computation time and model complexity seems to be much higher than the other methods.\n",
    "\n",
    "A theory for why tree based methods worked best is that they isolate variables and data ranges that dominate the response variable. Based on domain knowledge, only certain depth ranges result in high amount of varaiblility in the seawater desnity. Tree based algorithms may be able to isolate those ranges to determine the best tree for predicting the response variable compared to other models which may consider more noisy data."
   ]
  }
 ],
 "metadata": {
  "kernelspec": {
   "display_name": "Python 3",
   "language": "python",
   "name": "python3"
  },
  "language_info": {
   "codemirror_mode": {
    "name": "ipython",
    "version": 3
   },
   "file_extension": ".py",
   "mimetype": "text/x-python",
   "name": "python",
   "nbconvert_exporter": "python",
   "pygments_lexer": "ipython3",
   "version": "3.8.5"
  },
  "toc-autonumbering": true
 },
 "nbformat": 4,
 "nbformat_minor": 4
}
